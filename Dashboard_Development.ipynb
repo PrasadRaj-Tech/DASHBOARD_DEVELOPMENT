{
  "nbformat": 4,
  "nbformat_minor": 0,
  "metadata": {
    "colab": {
      "provenance": [],
      "authorship_tag": "ABX9TyNtTZGxdOAqWsBzMru08vDG",
      "include_colab_link": true
    },
    "kernelspec": {
      "name": "python3",
      "display_name": "Python 3"
    },
    "language_info": {
      "name": "python"
    }
  },
  "cells": [
    {
      "cell_type": "markdown",
      "metadata": {
        "id": "view-in-github",
        "colab_type": "text"
      },
      "source": [
        "<a href=\"https://colab.research.google.com/github/PrasadRaj-Tech/DASHBOARD_DEVELOPMENT/blob/main/Dashboard_Development.ipynb\" target=\"_parent\"><img src=\"https://colab.research.google.com/assets/colab-badge.svg\" alt=\"Open In Colab\"/></a>"
      ]
    },
    {
      "cell_type": "code",
      "execution_count": 2,
      "metadata": {
        "colab": {
          "base_uri": "https://localhost:8080/",
          "height": 781
        },
        "id": "UBw6p-zhfuUs",
        "outputId": "7cfb30ea-335a-4fd0-86e5-61ca7d31022c"
      },
      "outputs": [
        {
          "output_type": "stream",
          "name": "stdout",
          "text": [
            "Collecting dash\n",
            "  Downloading dash-3.0.4-py3-none-any.whl.metadata (10 kB)\n",
            "Collecting Flask<3.1,>=1.0.4 (from dash)\n",
            "  Downloading flask-3.0.3-py3-none-any.whl.metadata (3.2 kB)\n",
            "Collecting Werkzeug<3.1 (from dash)\n",
            "  Downloading werkzeug-3.0.6-py3-none-any.whl.metadata (3.7 kB)\n",
            "Requirement already satisfied: plotly>=5.0.0 in /usr/local/lib/python3.11/dist-packages (from dash) (5.24.1)\n",
            "Requirement already satisfied: importlib-metadata in /usr/local/lib/python3.11/dist-packages (from dash) (8.7.0)\n",
            "Requirement already satisfied: typing-extensions>=4.1.1 in /usr/local/lib/python3.11/dist-packages (from dash) (4.13.2)\n",
            "Requirement already satisfied: requests in /usr/local/lib/python3.11/dist-packages (from dash) (2.32.3)\n",
            "Collecting retrying (from dash)\n",
            "  Downloading retrying-1.3.4-py3-none-any.whl.metadata (6.9 kB)\n",
            "Requirement already satisfied: nest-asyncio in /usr/local/lib/python3.11/dist-packages (from dash) (1.6.0)\n",
            "Requirement already satisfied: setuptools in /usr/local/lib/python3.11/dist-packages (from dash) (75.2.0)\n",
            "Requirement already satisfied: Jinja2>=3.1.2 in /usr/local/lib/python3.11/dist-packages (from Flask<3.1,>=1.0.4->dash) (3.1.6)\n",
            "Requirement already satisfied: itsdangerous>=2.1.2 in /usr/local/lib/python3.11/dist-packages (from Flask<3.1,>=1.0.4->dash) (2.2.0)\n",
            "Requirement already satisfied: click>=8.1.3 in /usr/local/lib/python3.11/dist-packages (from Flask<3.1,>=1.0.4->dash) (8.2.1)\n",
            "Requirement already satisfied: blinker>=1.6.2 in /usr/local/lib/python3.11/dist-packages (from Flask<3.1,>=1.0.4->dash) (1.9.0)\n",
            "Requirement already satisfied: tenacity>=6.2.0 in /usr/local/lib/python3.11/dist-packages (from plotly>=5.0.0->dash) (9.1.2)\n",
            "Requirement already satisfied: packaging in /usr/local/lib/python3.11/dist-packages (from plotly>=5.0.0->dash) (24.2)\n",
            "Requirement already satisfied: MarkupSafe>=2.1.1 in /usr/local/lib/python3.11/dist-packages (from Werkzeug<3.1->dash) (3.0.2)\n",
            "Requirement already satisfied: zipp>=3.20 in /usr/local/lib/python3.11/dist-packages (from importlib-metadata->dash) (3.22.0)\n",
            "Requirement already satisfied: charset-normalizer<4,>=2 in /usr/local/lib/python3.11/dist-packages (from requests->dash) (3.4.2)\n",
            "Requirement already satisfied: idna<4,>=2.5 in /usr/local/lib/python3.11/dist-packages (from requests->dash) (3.10)\n",
            "Requirement already satisfied: urllib3<3,>=1.21.1 in /usr/local/lib/python3.11/dist-packages (from requests->dash) (2.4.0)\n",
            "Requirement already satisfied: certifi>=2017.4.17 in /usr/local/lib/python3.11/dist-packages (from requests->dash) (2025.4.26)\n",
            "Requirement already satisfied: six>=1.7.0 in /usr/local/lib/python3.11/dist-packages (from retrying->dash) (1.17.0)\n",
            "Downloading dash-3.0.4-py3-none-any.whl (7.9 MB)\n",
            "\u001b[2K   \u001b[90m━━━━━━━━━━━━━━━━━━━━━━━━━━━━━━━━━━━━━━━━\u001b[0m \u001b[32m7.9/7.9 MB\u001b[0m \u001b[31m45.1 MB/s\u001b[0m eta \u001b[36m0:00:00\u001b[0m\n",
            "\u001b[?25hDownloading flask-3.0.3-py3-none-any.whl (101 kB)\n",
            "\u001b[2K   \u001b[90m━━━━━━━━━━━━━━━━━━━━━━━━━━━━━━━━━━━━━━━━\u001b[0m \u001b[32m101.7/101.7 kB\u001b[0m \u001b[31m6.3 MB/s\u001b[0m eta \u001b[36m0:00:00\u001b[0m\n",
            "\u001b[?25hDownloading werkzeug-3.0.6-py3-none-any.whl (227 kB)\n",
            "\u001b[2K   \u001b[90m━━━━━━━━━━━━━━━━━━━━━━━━━━━━━━━━━━━━━━━━\u001b[0m \u001b[32m228.0/228.0 kB\u001b[0m \u001b[31m12.4 MB/s\u001b[0m eta \u001b[36m0:00:00\u001b[0m\n",
            "\u001b[?25hDownloading retrying-1.3.4-py3-none-any.whl (11 kB)\n",
            "Installing collected packages: Werkzeug, retrying, Flask, dash\n",
            "  Attempting uninstall: Werkzeug\n",
            "    Found existing installation: Werkzeug 3.1.3\n",
            "    Uninstalling Werkzeug-3.1.3:\n",
            "      Successfully uninstalled Werkzeug-3.1.3\n",
            "  Attempting uninstall: Flask\n",
            "    Found existing installation: Flask 3.1.1\n",
            "    Uninstalling Flask-3.1.1:\n",
            "      Successfully uninstalled Flask-3.1.1\n",
            "Successfully installed Flask-3.0.3 Werkzeug-3.0.6 dash-3.0.4 retrying-1.3.4\n"
          ]
        }
      ],
      "source": [
        "!pip install dash\n",
        "import pandas as pd\n",
        "import dash\n",
        "from dash import dcc, html\n",
        "import plotly.express as px\n",
        "from dash.dependencies import Input, Output\n",
        "import pandas as pd"
      ]
    },
    {
      "cell_type": "code",
      "source": [
        "# Load dataset, trying 'Orders' as the sheet name\n",
        "try:\n",
        "    df = pd.read_excel(\"Sample - Superstore.xls\", sheet_name=\"Orders\")\n",
        "except ValueError:\n",
        "    # If 'Orders' doesn't exist, print available sheet names for debugging\n",
        "    xls = pd.ExcelFile(\"Sample - Superstore.xls\")\n",
        "    print(f\"Available sheets: {xls.sheet_names}\")\n",
        "    raise  # Re-raise the error to stop execution\n",
        "\n",
        "\n",
        "# Data Preprocessing\n",
        "df['Order Date'] = pd.to_datetime(df['Order Date'])\n",
        "df['Year'] = df['Order Date'].dt.year"
      ],
      "metadata": {
        "id": "IvC3V2DfrFf2"
      },
      "execution_count": 3,
      "outputs": []
    },
    {
      "cell_type": "code",
      "source": [
        "# Initialize Dash App\n",
        "app = dash.Dash(__name__)\n",
        "\n",
        "# Layout\n",
        "# Check if df is defined before accessing it\n",
        "if 'df' in locals() and not df.empty:\n",
        "    app.layout = html.Div([\n",
        "        html.H1(\"Superstore Sales Dashboard\", style={'textAlign': 'center'}),\n",
        "\n",
        "        # Year Selection Dropdown\n",
        "        dcc.Dropdown(\n",
        "            id='year-dropdown',\n",
        "            options=[{'label': str(year), 'value': year} for year in df['Year'].unique()],\n",
        "            value=df['Year'].max(),\n",
        "            clearable=False,\n",
        "            style={'width': '50%'}\n",
        "        ),\n",
        "\n",
        "        # Sales Trend\n",
        "        dcc.Graph(id='sales-trend'),\n",
        "\n",
        "        # Category-wise Sales\n",
        "        dcc.Graph(id='category-sales'),\n",
        "\n",
        "        # Top Customers\n",
        "        dcc.Graph(id='top-customers')\n",
        "    ])\n",
        "else:\n",
        "    app.layout = html.Div([\n",
        "        html.H1(\"Error loading data. Please check the data file and the previous cell.\", style={'textAlign': 'center'})\n",
        "    ])"
      ],
      "metadata": {
        "id": "11xuBKQ7i8GR"
      },
      "execution_count": 4,
      "outputs": []
    },
    {
      "cell_type": "code",
      "source": [
        "# Callbacks\n",
        "@app.callback(\n",
        "    [Output('sales-trend', 'figure'),\n",
        "     Output('category-sales', 'figure'),\n",
        "     Output('top-customers', 'figure')],\n",
        "    [Input('year-dropdown', 'value')]\n",
        ")\n",
        "def update_charts(selected_year):\n",
        "    filtered_df = df[df['Year'] == selected_year]\n",
        "\n",
        "    # Sales Trend\n",
        "    sales_fig = px.line(filtered_df, x='Order Date', y='Sales', title=\"Sales Over Time\", markers=True)\n",
        "\n",
        "    # Category Sales\n",
        "    category_fig = px.bar(filtered_df.groupby('Category')['Sales'].sum().reset_index(),\n",
        "                          x='Category', y='Sales', title=\"Sales by Category\", color='Category')\n",
        "\n",
        "    # Top Customers\n",
        "    top_customers = filtered_df.groupby('Customer Name')['Sales'].sum().nlargest(10).reset_index()\n",
        "    top_cust_fig = px.bar(top_customers, x='Customer Name', y='Sales', title=\"Top 10 Customers\", color='Customer Name')\n",
        "\n",
        "    return sales_fig, category_fig, top_cust_fig\n",
        "\n",
        "# Run Server\n",
        "if __name__ == '__main__':\n",
        "    app.run(debug=True)"
      ],
      "metadata": {
        "colab": {
          "base_uri": "https://localhost:8080/",
          "height": 671
        },
        "id": "sq0lL_qWsMih",
        "outputId": "bd4b4acf-635d-43bb-9d9c-87e2c3981161"
      },
      "execution_count": 6,
      "outputs": [
        {
          "output_type": "display_data",
          "data": {
            "text/plain": [
              "<IPython.core.display.Javascript object>"
            ],
            "application/javascript": [
              "(async (port, path, width, height, cache, element) => {\n",
              "    if (!google.colab.kernel.accessAllowed && !cache) {\n",
              "      return;\n",
              "    }\n",
              "    element.appendChild(document.createTextNode(''));\n",
              "    const url = await google.colab.kernel.proxyPort(port, {cache});\n",
              "    const iframe = document.createElement('iframe');\n",
              "    iframe.src = new URL(path, url).toString();\n",
              "    iframe.height = height;\n",
              "    iframe.width = width;\n",
              "    iframe.style.border = 0;\n",
              "    iframe.allow = [\n",
              "        'accelerometer',\n",
              "        'autoplay',\n",
              "        'camera',\n",
              "        'clipboard-read',\n",
              "        'clipboard-write',\n",
              "        'gyroscope',\n",
              "        'magnetometer',\n",
              "        'microphone',\n",
              "        'serial',\n",
              "        'usb',\n",
              "        'xr-spatial-tracking',\n",
              "    ].join('; ');\n",
              "    element.appendChild(iframe);\n",
              "  })(8050, \"/\", \"100%\", 650, false, window.element)"
            ]
          },
          "metadata": {}
        }
      ]
    }
  ]
}